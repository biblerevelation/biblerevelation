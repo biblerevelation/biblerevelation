{
 "cells": [
  {
   "cell_type": "code",
   "execution_count": null,
   "metadata": {},
   "outputs": [],
   "source": [
    "#!/usr/bin/env python\n",
    "\n",
    "'''\n",
    "tag_generator.py\n",
    "\n",
    "Copyright 2017 Long Qian\n",
    "Contact: lqian8@jhu.edu\n",
    "\n",
    "This script creates tags for your Jekyll blog hosted by Github page.\n",
    "No plugins required.\n",
    "'''\n",
    "\n",
    "import glob\n",
    "import os\n",
    "\n",
    "post_dir = '_posts/'\n",
    "tag_dir = 'tag/'\n",
    "\n",
    "filenames = glob.glob(post_dir + '*md')\n",
    "\n",
    "total_tags = []\n",
    "for filename in filenames:\n",
    "    f = open(filename, 'r', encoding='utf8')\n",
    "    crawl = False\n",
    "    for line in f:\n",
    "        if crawl:\n",
    "            current_tags = line.strip().split()\n",
    "            if current_tags[0] == 'tags:':\n",
    "                total_tags.extend(current_tags[1:])\n",
    "                crawl = False\n",
    "                break\n",
    "        if line.strip() == '---':\n",
    "            if not crawl:\n",
    "                crawl = True\n",
    "            else:\n",
    "                crawl = False\n",
    "                break\n",
    "    f.close()\n",
    "total_tags = set(total_tags)\n",
    "\n",
    "old_tags = glob.glob(tag_dir + '*.md')\n",
    "for tag in old_tags:\n",
    "    os.remove(tag)\n",
    "    \n",
    "if not os.path.exists(tag_dir):\n",
    "    os.makedirs(tag_dir)\n",
    "\n",
    "for tag in total_tags:\n",
    "    tag_filename = tag_dir + tag + '.md'\n",
    "    f = open(tag_filename, 'a')\n",
    "    write_str = '---\\nlayout: tagpage\\ntitle: \\\"Tag: ' + tag + '\\\"\\ntag: ' + tag + '\\nrobots: noindex\\n---\\n'\n",
    "    f.write(write_str)\n",
    "    f.close()\n",
    "print(\"Tags generated, count\", total_tags.__len__())"
   ]
  }
 ],
 "metadata": {
  "kernelspec": {
   "display_name": "Python 3",
   "language": "python",
   "name": "python3"
  },
  "language_info": {
   "codemirror_mode": {
    "name": "ipython",
    "version": 3
   },
   "file_extension": ".py",
   "mimetype": "text/x-python",
   "name": "python",
   "nbconvert_exporter": "python",
   "pygments_lexer": "ipython3",
   "version": "3.7.3"
  }
 },
 "nbformat": 4,
 "nbformat_minor": 2
}
